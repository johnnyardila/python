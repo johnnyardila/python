{
  "nbformat": 4,
  "nbformat_minor": 0,
  "metadata": {
    "colab": {
      "provenance": []
    },
    "kernelspec": {
      "name": "python3",
      "display_name": "Python 3"
    },
    "language_info": {
      "name": "python"
    }
  },
  "cells": [
    {
      "cell_type": "markdown",
      "source": [
        "**Buenos dias** estoy aprendiendo python."
      ],
      "metadata": {
        "id": "sFiZ6roLlgIS"
      }
    },
    {
      "cell_type": "code",
      "execution_count": null,
      "metadata": {
        "id": "Dv1iTvLRjUoC",
        "colab": {
          "base_uri": "https://localhost:8080/"
        },
        "outputId": "699fcd61-9d73-4cab-f73f-d59ce6791b82"
      },
      "outputs": [
        {
          "output_type": "stream",
          "name": "stdout",
          "text": [
            "Diosito ayudame\n"
          ]
        }
      ],
      "source": [
        "#Esto es una broma\n",
        "print(\"Diosito ayudame\")"
      ]
    },
    {
      "cell_type": "code",
      "source": [
        "#Este soy yo\n",
        "print(\"Hola soy Johnny Ardila, tengo 40 años, me gusta el futbol y el fifa, vivo en floralia y tengo dos hijos\")"
      ],
      "metadata": {
        "colab": {
          "base_uri": "https://localhost:8080/"
        },
        "id": "vf4h9Kbymm4y",
        "outputId": "39fd27f8-0fc7-4692-873a-e42846f6e450"
      },
      "execution_count": null,
      "outputs": [
        {
          "output_type": "stream",
          "name": "stdout",
          "text": [
            "Hola soy Johnny Ardila, tengo 40 años, me gusta el futbol y el fifa, vivo en floralia y tengo dos hijos\n"
          ]
        }
      ]
    },
    {
      "cell_type": "code",
      "source": [
        "\"Noches de lluvia\""
      ],
      "metadata": {
        "colab": {
          "base_uri": "https://localhost:8080/",
          "height": 35
        },
        "id": "NugAHkeCnYBN",
        "outputId": "1859d22a-d3c3-487f-b0d1-1c956f152c07"
      },
      "execution_count": null,
      "outputs": [
        {
          "output_type": "execute_result",
          "data": {
            "text/plain": [
              "'Noches de lluvia'"
            ],
            "application/vnd.google.colaboratory.intrinsic+json": {
              "type": "string"
            }
          },
          "metadata": {},
          "execution_count": 24
        }
      ]
    },
    {
      "cell_type": "code",
      "source": [],
      "metadata": {
        "id": "5nFPL6NGnxgD"
      },
      "execution_count": null,
      "outputs": []
    },
    {
      "cell_type": "markdown",
      "source": [
        "**TIPOS DE DATOS**"
      ],
      "metadata": {
        "id": "MfySPY7Wn16i"
      }
    },
    {
      "cell_type": "code",
      "source": [
        "#Tipo de dato enter, en ingles integer y la abreviatura para python es int\n",
        "type(40)"
      ],
      "metadata": {
        "colab": {
          "base_uri": "https://localhost:8080/"
        },
        "id": "xrCgh5JjoBnp",
        "outputId": "dbb3d745-8b4c-4de5-eeac-78eaaf49df03"
      },
      "execution_count": null,
      "outputs": [
        {
          "output_type": "execute_result",
          "data": {
            "text/plain": [
              "int"
            ]
          },
          "metadata": {},
          "execution_count": 25
        }
      ]
    },
    {
      "cell_type": "code",
      "source": [
        "#Tipo de dato flotante que en español, lo conocemos como decimal\n",
        "type(9.8)"
      ],
      "metadata": {
        "colab": {
          "base_uri": "https://localhost:8080/"
        },
        "id": "zxLESwIqovSH",
        "outputId": "5a988e42-7eeb-41e6-a473-41404d26d3b1"
      },
      "execution_count": null,
      "outputs": [
        {
          "output_type": "execute_result",
          "data": {
            "text/plain": [
              "float"
            ]
          },
          "metadata": {},
          "execution_count": 26
        }
      ]
    },
    {
      "cell_type": "code",
      "source": [
        "#Tipo de dato boleanos, son tipos de datos que solo pueden tener dos valores el True(verdadero o False(Falso))\n",
        "type(True)"
      ],
      "metadata": {
        "colab": {
          "base_uri": "https://localhost:8080/"
        },
        "id": "hri7AQQIpIkt",
        "outputId": "a7d1ab3f-a74b-4b39-c1d9-db7f9ace169e"
      },
      "execution_count": null,
      "outputs": [
        {
          "output_type": "execute_result",
          "data": {
            "text/plain": [
              "bool"
            ]
          },
          "metadata": {},
          "execution_count": 27
        }
      ]
    },
    {
      "cell_type": "code",
      "source": [
        "#Tipo de dato cadena, en ingles strings, siempre deben tener comillas su abreviatura es str\n",
        "type(\"en un lugar de la mancha de cuyo nombre no puedo acordarme...\")"
      ],
      "metadata": {
        "colab": {
          "base_uri": "https://localhost:8080/"
        },
        "id": "0BPWpNk9p27w",
        "outputId": "b9f25b3d-3246-42cd-abf9-baf0cba26765"
      },
      "execution_count": null,
      "outputs": [
        {
          "output_type": "execute_result",
          "data": {
            "text/plain": [
              "str"
            ]
          },
          "metadata": {},
          "execution_count": 28
        }
      ]
    },
    {
      "cell_type": "code",
      "source": [],
      "metadata": {
        "id": "GeW6Rx4hqO40"
      },
      "execution_count": null,
      "outputs": []
    },
    {
      "cell_type": "markdown",
      "source": [
        "METODOS DE LAS CADENAS, las cadena tienen funciones pequeñas que me ayudan a formatearlas"
      ],
      "metadata": {
        "id": "nnZckFk7qaNP"
      }
    },
    {
      "cell_type": "code",
      "source": [
        "print(\"hola estoy aprendiendo python\".upper())#este metodo me sirve para poner mayusculas\n",
        "print(\"con Python pUedo peDir un aUmento\".lower())#este metodo me sirve para poner minusculas\n",
        "print(\"de la tierra a la luna\".title())#este metodo me sirve para poner primera letra de cada palabra en mayuscula"
      ],
      "metadata": {
        "colab": {
          "base_uri": "https://localhost:8080/"
        },
        "id": "9XRhl_4vqgho",
        "outputId": "5f5c15d6-fc16-4303-fc6e-d053a766877a"
      },
      "execution_count": null,
      "outputs": [
        {
          "output_type": "stream",
          "name": "stdout",
          "text": [
            "HOLA ESTOY APRENDIENDO PYTHON\n",
            "con python puedo pedir un aumento\n",
            "De La Tierra A La Luna\n"
          ]
        }
      ]
    },
    {
      "cell_type": "code",
      "source": [
        "#Para contar las letras de una cadena puedos usar el metodo count\n",
        "print(\"Muchos párrafos juntos forman un texto. En cada párrafo se desarrolla una idea central\".count(\"a\"))"
      ],
      "metadata": {
        "colab": {
          "base_uri": "https://localhost:8080/"
        },
        "id": "vJWPR-_Dqzie",
        "outputId": "a2a3d0e5-aa62-4bdd-b494-8a662fe23af4"
      },
      "execution_count": null,
      "outputs": [
        {
          "output_type": "stream",
          "name": "stdout",
          "text": [
            "10\n"
          ]
        }
      ]
    },
    {
      "cell_type": "code",
      "source": [
        "print(\"\"\"mi edad es 40 años\n",
        "mi genero es masculino\"\"\")\n"
      ],
      "metadata": {
        "colab": {
          "base_uri": "https://localhost:8080/"
        },
        "id": "noowoxUlsHWe",
        "outputId": "3705b753-082d-43d1-dc71-c98ada179f76"
      },
      "execution_count": null,
      "outputs": [
        {
          "output_type": "stream",
          "name": "stdout",
          "text": [
            "mi edad es 40 años\n",
            "mi genero es masculino\n"
          ]
        }
      ]
    },
    {
      "cell_type": "code",
      "source": [
        "#como remplazar un valor dentro de una cadena utilizando replace\n",
        "print(\"hola soy johnny ardila\".replace(\"j\",\"J\"))"
      ],
      "metadata": {
        "colab": {
          "base_uri": "https://localhost:8080/"
        },
        "id": "bTuPtQZSs1Mw",
        "outputId": "f504a50b-d06f-4f30-cb60-3fa99cfbbd41"
      },
      "execution_count": null,
      "outputs": [
        {
          "output_type": "stream",
          "name": "stdout",
          "text": [
            "hola soy Johnny ardila\n"
          ]
        }
      ]
    },
    {
      "cell_type": "code",
      "source": [
        "print(\"johnny fernando ardila gallego\".replace(\"j\",\"J\"))\n",
        "print(\"johnny fernando ardila gallego\".replace(\"f\",\"F\"))"
      ],
      "metadata": {
        "colab": {
          "base_uri": "https://localhost:8080/"
        },
        "id": "5A7YorjftUgv",
        "outputId": "399293e7-c9ee-40c0-bbe1-7715595df858"
      },
      "execution_count": null,
      "outputs": [
        {
          "output_type": "stream",
          "name": "stdout",
          "text": [
            "Johnny fernando ardila gallego\n",
            "johnny Fernando ardila gallego\n"
          ]
        }
      ]
    },
    {
      "cell_type": "markdown",
      "source": [
        "**Variables:**\n",
        "Son espacios de memoria que nos sirven para guardar informacion particular, deben tener un nombre que nos ayude a identificar su contenido"
      ],
      "metadata": {
        "id": "-p971vnFuEA1"
      }
    },
    {
      "cell_type": "code",
      "source": [
        "#para declarar una variable se usa nombre de la variable, el signo igual, y el valor\n",
        "#Ejemplo: edad=40\n",
        "nombre=\"johnny fernando\"\n",
        "apellido=\"ardila gallego\"\n",
        "edad=40\n",
        "estado_civil=\"union libre\""
      ],
      "metadata": {
        "id": "O4UvWL8Wt-J8"
      },
      "execution_count": null,
      "outputs": []
    },
    {
      "cell_type": "code",
      "source": [
        "nombre"
      ],
      "metadata": {
        "colab": {
          "base_uri": "https://localhost:8080/",
          "height": 35
        },
        "id": "QxXpIi62uymV",
        "outputId": "8d61d600-c5f7-4211-d03d-9da71746e616"
      },
      "execution_count": null,
      "outputs": [
        {
          "output_type": "execute_result",
          "data": {
            "text/plain": [
              "'johnny fernando'"
            ],
            "application/vnd.google.colaboratory.intrinsic+json": {
              "type": "string"
            }
          },
          "metadata": {},
          "execution_count": 35
        }
      ]
    },
    {
      "cell_type": "code",
      "source": [
        "apellido"
      ],
      "metadata": {
        "colab": {
          "base_uri": "https://localhost:8080/",
          "height": 35
        },
        "id": "w4IVIiYBvBDW",
        "outputId": "393848cf-56b5-4cf8-caac-a77e9d5aaf6a"
      },
      "execution_count": null,
      "outputs": [
        {
          "output_type": "execute_result",
          "data": {
            "text/plain": [
              "'ardila gallego'"
            ],
            "application/vnd.google.colaboratory.intrinsic+json": {
              "type": "string"
            }
          },
          "metadata": {},
          "execution_count": 36
        }
      ]
    },
    {
      "cell_type": "code",
      "source": [
        "#nombre mijo\n",
        "hijo_nombre=\"santiago\"\n",
        "hijo_apellido=\"ardila\""
      ],
      "metadata": {
        "id": "rBLaQjLBvGwB"
      },
      "execution_count": null,
      "outputs": []
    },
    {
      "cell_type": "code",
      "source": [
        "hijo_apellido=\"verdades\""
      ],
      "metadata": {
        "id": "fc7Hdq2xvdEI"
      },
      "execution_count": null,
      "outputs": []
    },
    {
      "cell_type": "code",
      "source": [
        "hijo_apellido"
      ],
      "metadata": {
        "colab": {
          "base_uri": "https://localhost:8080/",
          "height": 35
        },
        "id": "VEKS6CCHvwG1",
        "outputId": "e227154d-04b2-478a-da81-98c3a6e692d4"
      },
      "execution_count": null,
      "outputs": [
        {
          "output_type": "execute_result",
          "data": {
            "text/plain": [
              "'verdades'"
            ],
            "application/vnd.google.colaboratory.intrinsic+json": {
              "type": "string"
            }
          },
          "metadata": {},
          "execution_count": 39
        }
      ]
    },
    {
      "cell_type": "code",
      "source": [
        "#esta es una variable con un mensaje\n",
        "mensaje_1=\"ahora que se python alexandra no me va a ganar\""
      ],
      "metadata": {
        "id": "CzGxMaRlvydp"
      },
      "execution_count": null,
      "outputs": []
    },
    {
      "cell_type": "code",
      "source": [
        "mensaje_1"
      ],
      "metadata": {
        "colab": {
          "base_uri": "https://localhost:8080/",
          "height": 35
        },
        "id": "fa5Jam741gxu",
        "outputId": "fb1b04b0-0e4e-4572-c85d-335c90f50888"
      },
      "execution_count": null,
      "outputs": [
        {
          "output_type": "execute_result",
          "data": {
            "text/plain": [
              "'ahora que se python alexandra no me va a ganar'"
            ],
            "application/vnd.google.colaboratory.intrinsic+json": {
              "type": "string"
            }
          },
          "metadata": {},
          "execution_count": 41
        }
      ]
    },
    {
      "cell_type": "code",
      "source": [
        "#aca no solo guarde la variable si no que la mostre de una vez\n",
        "mensaje_2=\"porque yo voy con toda\"\n",
        "mensaje_2"
      ],
      "metadata": {
        "colab": {
          "base_uri": "https://localhost:8080/",
          "height": 35
        },
        "id": "BiHelvjC1iS2",
        "outputId": "fb962ef9-92e3-4bc0-a128-564a02dd81e1"
      },
      "execution_count": null,
      "outputs": [
        {
          "output_type": "execute_result",
          "data": {
            "text/plain": [
              "'porque yo voy con toda'"
            ],
            "application/vnd.google.colaboratory.intrinsic+json": {
              "type": "string"
            }
          },
          "metadata": {},
          "execution_count": 42
        }
      ]
    },
    {
      "cell_type": "code",
      "source": [
        "espacio=\" \""
      ],
      "metadata": {
        "id": "ehEDPXXI2MGV"
      },
      "execution_count": null,
      "outputs": []
    },
    {
      "cell_type": "code",
      "source": [
        "mensaje_1+espacio+mensaje_2"
      ],
      "metadata": {
        "colab": {
          "base_uri": "https://localhost:8080/",
          "height": 35
        },
        "id": "4xOkyaxn2jqG",
        "outputId": "039419b5-c993-4cfc-f0b2-e67cda21c653"
      },
      "execution_count": null,
      "outputs": [
        {
          "output_type": "execute_result",
          "data": {
            "text/plain": [
              "'ahora que se python alexandra no me va a ganar porque yo voy con toda'"
            ],
            "application/vnd.google.colaboratory.intrinsic+json": {
              "type": "string"
            }
          },
          "metadata": {},
          "execution_count": 44
        }
      ]
    },
    {
      "cell_type": "code",
      "source": [
        "#asi guardo la concatenacion dentro de una variable\n",
        "mensaje_completo=mensaje_1+espacio+mensaje_2\n",
        "mensaje_completo"
      ],
      "metadata": {
        "colab": {
          "base_uri": "https://localhost:8080/",
          "height": 35
        },
        "id": "tT07JLHi2rwv",
        "outputId": "2184c108-9079-4ae9-c9d3-d2631e50fad0"
      },
      "execution_count": null,
      "outputs": [
        {
          "output_type": "execute_result",
          "data": {
            "text/plain": [
              "'ahora que se python alexandra no me va a ganar porque yo voy con toda'"
            ],
            "application/vnd.google.colaboratory.intrinsic+json": {
              "type": "string"
            }
          },
          "metadata": {},
          "execution_count": 45
        }
      ]
    },
    {
      "cell_type": "markdown",
      "source": [
        "listas son tipos de datos mutables y ordenados, son las mas usadas al trabajar con datos, para declarar una lista uso los corchetes cuadrados []"
      ],
      "metadata": {
        "id": "PI_cd2Kh4AXG"
      }
    },
    {
      "cell_type": "code",
      "source": [
        "#listas: las listas se definen como el siguiente ejemplo\n",
        "#datos=[\"johnny\",\"fernando\",\"ardila\",\"gallego\",40,\"union libre\",1.75]\n",
        "paises=[\"Colombia\",\"Ecuador\",\"Mexico\",\"China\",\"Francia\",\"Paraguay\"]\n",
        "paises"
      ],
      "metadata": {
        "colab": {
          "base_uri": "https://localhost:8080/"
        },
        "id": "HOV4zfR74bXr",
        "outputId": "acf64a8d-ae97-4867-f33f-a7bcb7fb3e1c"
      },
      "execution_count": null,
      "outputs": [
        {
          "output_type": "execute_result",
          "data": {
            "text/plain": [
              "['Colombia', 'Ecuador', 'Mexico', 'China', 'Francia', 'Paraguay']"
            ]
          },
          "metadata": {},
          "execution_count": 46
        }
      ]
    },
    {
      "cell_type": "code",
      "source": [
        "#las listas tienen indices automaticos, que se generan cuando creo la lista, sin embargo estos no son visibles hasta que los llamo\n",
        "paises[0]"
      ],
      "metadata": {
        "colab": {
          "base_uri": "https://localhost:8080/",
          "height": 35
        },
        "id": "fNyAhj5W5JIz",
        "outputId": "6f266c6e-a655-46df-bfea-d7782acc7a9e"
      },
      "execution_count": null,
      "outputs": [
        {
          "output_type": "execute_result",
          "data": {
            "text/plain": [
              "'Colombia'"
            ],
            "application/vnd.google.colaboratory.intrinsic+json": {
              "type": "string"
            }
          },
          "metadata": {},
          "execution_count": 47
        }
      ]
    },
    {
      "cell_type": "code",
      "source": [
        "paises[-6]"
      ],
      "metadata": {
        "colab": {
          "base_uri": "https://localhost:8080/",
          "height": 35
        },
        "id": "fdyGq9fj5xXW",
        "outputId": "4f5015c8-c3f5-4062-966d-4e3ba2c8c9a0"
      },
      "execution_count": null,
      "outputs": [
        {
          "output_type": "execute_result",
          "data": {
            "text/plain": [
              "'Colombia'"
            ],
            "application/vnd.google.colaboratory.intrinsic+json": {
              "type": "string"
            }
          },
          "metadata": {},
          "execution_count": 48
        }
      ]
    },
    {
      "cell_type": "code",
      "source": [
        "paises[3]"
      ],
      "metadata": {
        "colab": {
          "base_uri": "https://localhost:8080/",
          "height": 35
        },
        "id": "YrVMrJXX52oZ",
        "outputId": "fe75373c-f0fe-4b15-a23d-42f2642ba2ba"
      },
      "execution_count": null,
      "outputs": [
        {
          "output_type": "execute_result",
          "data": {
            "text/plain": [
              "'China'"
            ],
            "application/vnd.google.colaboratory.intrinsic+json": {
              "type": "string"
            }
          },
          "metadata": {},
          "execution_count": 49
        }
      ]
    },
    {
      "cell_type": "code",
      "source": [
        "paises[-1]"
      ],
      "metadata": {
        "colab": {
          "base_uri": "https://localhost:8080/",
          "height": 35
        },
        "id": "PPE72PCC56nj",
        "outputId": "eb771b28-bd27-48e0-e64c-c4e7cf139609"
      },
      "execution_count": null,
      "outputs": [
        {
          "output_type": "execute_result",
          "data": {
            "text/plain": [
              "'Paraguay'"
            ],
            "application/vnd.google.colaboratory.intrinsic+json": {
              "type": "string"
            }
          },
          "metadata": {},
          "execution_count": 50
        }
      ]
    },
    {
      "cell_type": "code",
      "source": [
        "#llamar francia desde la derecha\n",
        "paises[4]"
      ],
      "metadata": {
        "colab": {
          "base_uri": "https://localhost:8080/",
          "height": 35
        },
        "id": "W4N-yEkk5-LG",
        "outputId": "f990af2d-7576-44e3-9e70-8689e56c8b50"
      },
      "execution_count": null,
      "outputs": [
        {
          "output_type": "execute_result",
          "data": {
            "text/plain": [
              "'Francia'"
            ],
            "application/vnd.google.colaboratory.intrinsic+json": {
              "type": "string"
            }
          },
          "metadata": {},
          "execution_count": 51
        }
      ]
    },
    {
      "cell_type": "code",
      "source": [
        "#llamar francia desde la izquierda\n",
        "paises[-2]"
      ],
      "metadata": {
        "colab": {
          "base_uri": "https://localhost:8080/",
          "height": 35
        },
        "id": "jksf2Icl6Hb5",
        "outputId": "be22b39d-726b-46ea-df53-d9feca508ab6"
      },
      "execution_count": null,
      "outputs": [
        {
          "output_type": "execute_result",
          "data": {
            "text/plain": [
              "'Francia'"
            ],
            "application/vnd.google.colaboratory.intrinsic+json": {
              "type": "string"
            }
          },
          "metadata": {},
          "execution_count": 52
        }
      ]
    },
    {
      "cell_type": "code",
      "source": [
        "paises"
      ],
      "metadata": {
        "colab": {
          "base_uri": "https://localhost:8080/"
        },
        "id": "vlPqXXZM6R3R",
        "outputId": "a0b1615b-bc43-4b0b-bc13-585d889df51a"
      },
      "execution_count": null,
      "outputs": [
        {
          "output_type": "execute_result",
          "data": {
            "text/plain": [
              "['Colombia', 'Ecuador', 'Mexico', 'China', 'Francia', 'Paraguay']"
            ]
          },
          "metadata": {},
          "execution_count": 53
        }
      ]
    },
    {
      "cell_type": "code",
      "source": [
        "#la tecnica del slicing m epermite cortar pedazos de lista y guardarlos en una variable\n",
        "paises[1:3]"
      ],
      "metadata": {
        "colab": {
          "base_uri": "https://localhost:8080/"
        },
        "id": "E4qyhcYg6p9G",
        "outputId": "f1f7a8e0-68e8-4830-d8f5-7fb49a0d6832"
      },
      "execution_count": null,
      "outputs": [
        {
          "output_type": "execute_result",
          "data": {
            "text/plain": [
              "['Ecuador', 'Mexico']"
            ]
          },
          "metadata": {},
          "execution_count": 54
        }
      ]
    },
    {
      "cell_type": "code",
      "source": [
        "corte_paises=paises[1:3]\n",
        "corte_paises"
      ],
      "metadata": {
        "colab": {
          "base_uri": "https://localhost:8080/"
        },
        "id": "BcC1nHp468tJ",
        "outputId": "27cacf20-2a13-482c-eb23-3a7cb5110062"
      },
      "execution_count": null,
      "outputs": [
        {
          "output_type": "execute_result",
          "data": {
            "text/plain": [
              "['Ecuador', 'Mexico']"
            ]
          },
          "metadata": {},
          "execution_count": 55
        }
      ]
    },
    {
      "cell_type": "code",
      "source": [
        "paises"
      ],
      "metadata": {
        "colab": {
          "base_uri": "https://localhost:8080/"
        },
        "id": "0YA1vjv87FHf",
        "outputId": "2dad74be-d374-45ba-b7e3-5c33b9ebb1d2"
      },
      "execution_count": null,
      "outputs": [
        {
          "output_type": "execute_result",
          "data": {
            "text/plain": [
              "['Colombia', 'Ecuador', 'Mexico', 'China', 'Francia', 'Paraguay']"
            ]
          },
          "metadata": {},
          "execution_count": 56
        }
      ]
    },
    {
      "cell_type": "code",
      "source": [
        "paises[1:]"
      ],
      "metadata": {
        "colab": {
          "base_uri": "https://localhost:8080/"
        },
        "id": "Eg1eQ-io7LxN",
        "outputId": "fa330009-39d0-4bc6-a21c-ac40302f49f0"
      },
      "execution_count": null,
      "outputs": [
        {
          "output_type": "execute_result",
          "data": {
            "text/plain": [
              "['Ecuador', 'Mexico', 'China', 'Francia', 'Paraguay']"
            ]
          },
          "metadata": {},
          "execution_count": 57
        }
      ]
    },
    {
      "cell_type": "code",
      "source": [
        "paises[:5]"
      ],
      "metadata": {
        "colab": {
          "base_uri": "https://localhost:8080/"
        },
        "id": "YjTKCB7r7T8v",
        "outputId": "ee38d22e-574d-4b04-c49b-6789e0eec487"
      },
      "execution_count": null,
      "outputs": [
        {
          "output_type": "execute_result",
          "data": {
            "text/plain": [
              "['Colombia', 'Ecuador', 'Mexico', 'China', 'Francia']"
            ]
          },
          "metadata": {},
          "execution_count": 58
        }
      ]
    },
    {
      "cell_type": "code",
      "source": [
        "#asi agrego elementos al final de una lista\n",
        "paises.append(\"RUSIA\")\n",
        "paises"
      ],
      "metadata": {
        "colab": {
          "base_uri": "https://localhost:8080/"
        },
        "id": "EeqT2WDn7jYZ",
        "outputId": "a1fd9f5c-9600-4929-e212-6a72896ba306"
      },
      "execution_count": null,
      "outputs": [
        {
          "output_type": "execute_result",
          "data": {
            "text/plain": [
              "['Colombia', 'Ecuador', 'Mexico', 'China', 'Francia', 'Paraguay', 'RUSIA']"
            ]
          },
          "metadata": {},
          "execution_count": 59
        }
      ]
    },
    {
      "cell_type": "code",
      "source": [
        "#para agregar un dato en la posicion de la lista que yo quiera usi insert\n",
        "paises.insert(0,\"Venezuela\")\n",
        "paises"
      ],
      "metadata": {
        "colab": {
          "base_uri": "https://localhost:8080/"
        },
        "id": "WQCS3wkq78Ku",
        "outputId": "e0a622dd-c6b5-48c3-9271-4e0e7b9b61be"
      },
      "execution_count": null,
      "outputs": [
        {
          "output_type": "execute_result",
          "data": {
            "text/plain": [
              "['Venezuela',\n",
              " 'Colombia',\n",
              " 'Ecuador',\n",
              " 'Mexico',\n",
              " 'China',\n",
              " 'Francia',\n",
              " 'Paraguay',\n",
              " 'RUSIA']"
            ]
          },
          "metadata": {},
          "execution_count": 60
        }
      ]
    },
    {
      "cell_type": "code",
      "source": [
        "#tambien puedo concatenar listas\n",
        "paises_europa=[\"italia\",\"alemania\",\"españa\",\"portugal\",\"polonia\"]\n",
        "paises_europa"
      ],
      "metadata": {
        "colab": {
          "base_uri": "https://localhost:8080/"
        },
        "id": "g25BaVlV8Wh5",
        "outputId": "f4be25d4-2214-47b4-d3c1-9fe3c58fb565"
      },
      "execution_count": null,
      "outputs": [
        {
          "output_type": "execute_result",
          "data": {
            "text/plain": [
              "['italia', 'alemania', 'españa', 'portugal', 'polonia']"
            ]
          },
          "metadata": {},
          "execution_count": 61
        }
      ]
    },
    {
      "cell_type": "code",
      "source": [
        "paises+paises_europa"
      ],
      "metadata": {
        "colab": {
          "base_uri": "https://localhost:8080/"
        },
        "id": "h4oPbYgh8yEj",
        "outputId": "92efe40f-27c0-48f7-cd88-8ef067324c4f"
      },
      "execution_count": null,
      "outputs": [
        {
          "output_type": "execute_result",
          "data": {
            "text/plain": [
              "['Venezuela',\n",
              " 'Colombia',\n",
              " 'Ecuador',\n",
              " 'Mexico',\n",
              " 'China',\n",
              " 'Francia',\n",
              " 'Paraguay',\n",
              " 'RUSIA',\n",
              " 'italia',\n",
              " 'alemania',\n",
              " 'españa',\n",
              " 'portugal',\n",
              " 'polonia']"
            ]
          },
          "metadata": {},
          "execution_count": 62
        }
      ]
    },
    {
      "cell_type": "code",
      "source": [
        "#guardar la concatenacion en una variable\n",
        "paises_completo=paises+paises_europa\n",
        "paises_completo"
      ],
      "metadata": {
        "colab": {
          "base_uri": "https://localhost:8080/"
        },
        "id": "vo58JdG-89gW",
        "outputId": "51e7b0ac-9a31-482d-bedb-0549c2e2d577"
      },
      "execution_count": null,
      "outputs": [
        {
          "output_type": "execute_result",
          "data": {
            "text/plain": [
              "['Venezuela',\n",
              " 'Colombia',\n",
              " 'Ecuador',\n",
              " 'Mexico',\n",
              " 'China',\n",
              " 'Francia',\n",
              " 'Paraguay',\n",
              " 'RUSIA',\n",
              " 'italia',\n",
              " 'alemania',\n",
              " 'españa',\n",
              " 'portugal',\n",
              " 'polonia']"
            ]
          },
          "metadata": {},
          "execution_count": 63
        }
      ]
    },
    {
      "cell_type": "code",
      "source": [
        "paises_completos_lista=[paises,paises_europa]\n",
        "paises_completos_lista"
      ],
      "metadata": {
        "colab": {
          "base_uri": "https://localhost:8080/"
        },
        "id": "v5nx76cv9rs4",
        "outputId": "2d2b2c8a-a23f-4189-fe5e-4df3c6e8f868"
      },
      "execution_count": null,
      "outputs": [
        {
          "output_type": "execute_result",
          "data": {
            "text/plain": [
              "[['Venezuela',\n",
              "  'Colombia',\n",
              "  'Ecuador',\n",
              "  'Mexico',\n",
              "  'China',\n",
              "  'Francia',\n",
              "  'Paraguay',\n",
              "  'RUSIA'],\n",
              " ['italia', 'alemania', 'españa', 'portugal', 'polonia']]"
            ]
          },
          "metadata": {},
          "execution_count": 64
        }
      ]
    },
    {
      "cell_type": "code",
      "source": [
        "nombre=\"Johnny\"\n",
        "apellido=\"Ardila\"\n",
        "edad=38\n",
        "cedula=80214736\n",
        "estado_civil=\"union_libre\"\n",
        "estatura=1.75"
      ],
      "metadata": {
        "id": "9gv90H45-BAt"
      },
      "execution_count": null,
      "outputs": []
    },
    {
      "cell_type": "code",
      "source": [
        "informacion_personal=[nombre,apellido,edad,cedula,estado_civil,estatura]\n",
        "informacion_personal"
      ],
      "metadata": {
        "colab": {
          "base_uri": "https://localhost:8080/"
        },
        "id": "6GA71-o3CEwz",
        "outputId": "f6cda411-7035-42ee-d148-26b1e401d8a4"
      },
      "execution_count": null,
      "outputs": [
        {
          "output_type": "execute_result",
          "data": {
            "text/plain": [
              "['Johnny', 'Ardila', 38, 80214736, 'union_libre', 1.75]"
            ]
          },
          "metadata": {},
          "execution_count": 66
        }
      ]
    },
    {
      "cell_type": "code",
      "source": [
        "#lista usando agregando con append\n",
        "familiares=[]\n",
        "familiares.append(\"santiago\")\n",
        "familiares.append(\"irma\")\n",
        "familiares.append(\"carlos\")\n",
        "familiares.append(\"yuri\")\n",
        "familiares.append(\"samantha\")\n",
        "familiares"
      ],
      "metadata": {
        "colab": {
          "base_uri": "https://localhost:8080/"
        },
        "id": "gC_9DAvIDg0t",
        "outputId": "c56e1c8d-e88f-402d-870b-74ced231e47d"
      },
      "execution_count": null,
      "outputs": [
        {
          "output_type": "execute_result",
          "data": {
            "text/plain": [
              "['santiago', 'irma', 'carlos', 'yuri', 'samantha']"
            ]
          },
          "metadata": {},
          "execution_count": 67
        }
      ]
    },
    {
      "cell_type": "markdown",
      "source": [],
      "metadata": {
        "id": "OEWghBAc4Cb2"
      }
    },
    {
      "cell_type": "code",
      "source": [
        "familiares.insert(0,18)\n",
        "familiares.insert(1,64)\n",
        "familiares.insert(2,60)\n",
        "familiares.insert(3,36)\n",
        "familiares.insert(4,2)\n",
        "familiares"
      ],
      "metadata": {
        "colab": {
          "base_uri": "https://localhost:8080/"
        },
        "id": "4Temi-0lH8Ks",
        "outputId": "cc2267b5-bfd5-4f8b-ff10-60d1c15030d4"
      },
      "execution_count": null,
      "outputs": [
        {
          "output_type": "execute_result",
          "data": {
            "text/plain": [
              "[18, 64, 60, 36, 2, 'santiago', 'irma', 'carlos', 'yuri', 'samantha']"
            ]
          },
          "metadata": {},
          "execution_count": 68
        }
      ]
    },
    {
      "cell_type": "code",
      "source": [
        "#esta funcion me sirve para ingresar y capturar datos\n",
        "edad_1=input(\"Hola que te parece si antes de apostar tu casa vemos si eres mayor de edad, ingresa tu edad:\")"
      ],
      "metadata": {
        "colab": {
          "base_uri": "https://localhost:8080/"
        },
        "id": "hnf-2gAyH9Ge",
        "outputId": "af06504c-505c-45f9-cabf-402309a6f80f"
      },
      "execution_count": null,
      "outputs": [
        {
          "name": "stdout",
          "output_type": "stream",
          "text": [
            "Hola que te parece si antes de apostar tu casa vemos si eres mayor de edad, ingresa tu edad:18\n"
          ]
        }
      ]
    },
    {
      "cell_type": "code",
      "source": [
        "Nombre_2=input(\"ingresa tu nombre: \")\n",
        "print(\"la verdad hoy estas terrible\",Nombre_2)"
      ],
      "metadata": {
        "colab": {
          "base_uri": "https://localhost:8080/"
        },
        "id": "yPz3oHo-KvSD",
        "outputId": "e02ebd49-c880-4a5d-ccea-761a0ba59b51"
      },
      "execution_count": null,
      "outputs": [
        {
          "output_type": "stream",
          "name": "stdout",
          "text": [
            "ingresa tu nombre: 18\n",
            "la verdad hoy estas terrible 18\n"
          ]
        }
      ]
    },
    {
      "cell_type": "code",
      "source": [
        "paises"
      ],
      "metadata": {
        "colab": {
          "base_uri": "https://localhost:8080/"
        },
        "id": "M2_cpP8pLq2B",
        "outputId": "98598919-0bc9-4f9f-da88-414f659e288f"
      },
      "execution_count": null,
      "outputs": [
        {
          "output_type": "execute_result",
          "data": {
            "text/plain": [
              "['Venezuela',\n",
              " 'Colombia',\n",
              " 'Ecuador',\n",
              " 'Mexico',\n",
              " 'China',\n",
              " 'Francia',\n",
              " 'Paraguay',\n",
              " 'RUSIA']"
            ]
          },
          "metadata": {},
          "execution_count": 71
        }
      ]
    },
    {
      "cell_type": "code",
      "source": [
        "#para remover datos de las lista utilizo el metodo remove\n",
        "paises.remove(\"RUSIA\")\n",
        "paises"
      ],
      "metadata": {
        "colab": {
          "base_uri": "https://localhost:8080/"
        },
        "id": "5EVaa8wMLJ_j",
        "outputId": "34cf7051-b290-4f50-b78d-e0cb827b783b"
      },
      "execution_count": null,
      "outputs": [
        {
          "output_type": "execute_result",
          "data": {
            "text/plain": [
              "['Venezuela', 'Colombia', 'Ecuador', 'Mexico', 'China', 'Francia', 'Paraguay']"
            ]
          },
          "metadata": {},
          "execution_count": 72
        }
      ]
    },
    {
      "cell_type": "code",
      "source": [
        "#otr metodo para eliminar es el metodo pop, este me permite eliminar por posicion\n",
        "paises.pop(4)"
      ],
      "metadata": {
        "colab": {
          "base_uri": "https://localhost:8080/",
          "height": 35
        },
        "id": "AqA1P0LVLyyx",
        "outputId": "86f39b2f-c06c-4b87-d5b5-1bb72e11549a"
      },
      "execution_count": null,
      "outputs": [
        {
          "output_type": "execute_result",
          "data": {
            "text/plain": [
              "'China'"
            ],
            "application/vnd.google.colaboratory.intrinsic+json": {
              "type": "string"
            }
          },
          "metadata": {},
          "execution_count": 73
        }
      ]
    },
    {
      "cell_type": "code",
      "source": [
        "paises"
      ],
      "metadata": {
        "colab": {
          "base_uri": "https://localhost:8080/"
        },
        "id": "lr82AwImMH2i",
        "outputId": "2bbc88d5-4c2d-4906-d291-fd4c1dd29d98"
      },
      "execution_count": null,
      "outputs": [
        {
          "output_type": "execute_result",
          "data": {
            "text/plain": [
              "['Venezuela', 'Colombia', 'Ecuador', 'Mexico', 'Francia', 'Paraguay']"
            ]
          },
          "metadata": {},
          "execution_count": 74
        }
      ]
    },
    {
      "cell_type": "code",
      "source": [
        "#para eliminar definitvamente se usa del\n",
        "del paises[4]"
      ],
      "metadata": {
        "id": "ZCwGpEOAMLKW"
      },
      "execution_count": null,
      "outputs": []
    },
    {
      "cell_type": "code",
      "source": [
        "paises"
      ],
      "metadata": {
        "colab": {
          "base_uri": "https://localhost:8080/"
        },
        "id": "BPxoZYPSMigW",
        "outputId": "809e42c6-953a-4750-aa66-3fc694a1cdb7"
      },
      "execution_count": null,
      "outputs": [
        {
          "output_type": "execute_result",
          "data": {
            "text/plain": [
              "['Venezuela', 'Colombia', 'Ecuador', 'Mexico', 'Paraguay']"
            ]
          },
          "metadata": {},
          "execution_count": 76
        }
      ]
    },
    {
      "cell_type": "code",
      "source": [
        "#ordenar las listas, las puedo ordenar de mayor a menor o alfabeticamente con el metodo sort\n",
        "paises.sort()\n"
      ],
      "metadata": {
        "id": "djkE2oYSMjJf"
      },
      "execution_count": null,
      "outputs": []
    },
    {
      "cell_type": "code",
      "source": [
        "paises"
      ],
      "metadata": {
        "colab": {
          "base_uri": "https://localhost:8080/"
        },
        "id": "xz293e4tOag8",
        "outputId": "098c6320-8754-4ce0-ec36-dda1d485efb8"
      },
      "execution_count": null,
      "outputs": [
        {
          "output_type": "execute_result",
          "data": {
            "text/plain": [
              "['Colombia', 'Ecuador', 'Mexico', 'Paraguay', 'Venezuela']"
            ]
          },
          "metadata": {},
          "execution_count": 78
        }
      ]
    },
    {
      "cell_type": "code",
      "source": [
        "digitos=[2,4,5,1,6,0,3,8,9,7]\n",
        "digitos.sort()\n",
        "digitos"
      ],
      "metadata": {
        "colab": {
          "base_uri": "https://localhost:8080/"
        },
        "id": "eN2rnWPnOdv2",
        "outputId": "e055c401-0c32-4018-b2e1-9764d2f1e85b"
      },
      "execution_count": null,
      "outputs": [
        {
          "output_type": "execute_result",
          "data": {
            "text/plain": [
              "[0, 1, 2, 3, 4, 5, 6, 7, 8, 9]"
            ]
          },
          "metadata": {},
          "execution_count": 79
        }
      ]
    },
    {
      "cell_type": "code",
      "source": [
        "digitos.sort(reverse=True)\n",
        "digitos"
      ],
      "metadata": {
        "colab": {
          "base_uri": "https://localhost:8080/"
        },
        "id": "pg_paegEOq8J",
        "outputId": "4f24c02a-fc54-4a2f-e629-41aee50c0ee5"
      },
      "execution_count": null,
      "outputs": [
        {
          "output_type": "execute_result",
          "data": {
            "text/plain": [
              "[9, 8, 7, 6, 5, 4, 3, 2, 1, 0]"
            ]
          },
          "metadata": {},
          "execution_count": 80
        }
      ]
    },
    {
      "cell_type": "code",
      "source": [
        "#como generar copia de una lista\n",
        "paises_copia_verdadera=paises.copy()\n",
        "paises_copia_verdadera"
      ],
      "metadata": {
        "colab": {
          "base_uri": "https://localhost:8080/"
        },
        "id": "xPyunLHFO7lw",
        "outputId": "486c9b95-7edc-4ecf-a928-c08f9035f367"
      },
      "execution_count": null,
      "outputs": [
        {
          "output_type": "execute_result",
          "data": {
            "text/plain": [
              "['Colombia', 'Ecuador', 'Mexico', 'Paraguay', 'Venezuela']"
            ]
          },
          "metadata": {},
          "execution_count": 81
        }
      ]
    },
    {
      "cell_type": "code",
      "source": [
        "#segunda alternativa para generar copia de lista\n",
        "paises_copia_verdadera_2=paises[:]"
      ],
      "metadata": {
        "id": "uzCqrQgjPqjc"
      },
      "execution_count": null,
      "outputs": []
    },
    {
      "cell_type": "code",
      "source": [
        "paises_copia_verdadera_2"
      ],
      "metadata": {
        "colab": {
          "base_uri": "https://localhost:8080/"
        },
        "id": "jLWHMq_JP24p",
        "outputId": "53d42f09-f31c-44a8-bcdc-b3e4c505e987"
      },
      "execution_count": null,
      "outputs": [
        {
          "output_type": "execute_result",
          "data": {
            "text/plain": [
              "['Colombia', 'Ecuador', 'Mexico', 'Paraguay', 'Venezuela']"
            ]
          },
          "metadata": {},
          "execution_count": 83
        }
      ]
    },
    {
      "cell_type": "code",
      "source": [],
      "metadata": {
        "id": "wZoT03rqP5-5"
      },
      "execution_count": null,
      "outputs": []
    },
    {
      "cell_type": "markdown",
      "source": [
        "**diccionarios:** son tipos de datos que tienen una llave y un valor a la combinacion de llave con valor se le conoce como item en los diccionarios puedo usar metodos parecidos a los de las listas"
      ],
      "metadata": {
        "id": "pMiBpcKKQI7f"
      }
    },
    {
      "cell_type": "code",
      "source": [
        "diccionario_ing_esp={\"casa\":\"house\",\"entender\":\"understand\",\"sediento\":\"thirty\",\"rojo\":\"red\",\"ocupado\":\"busy\"}\n",
        "diccionario_ing_esp"
      ],
      "metadata": {
        "colab": {
          "base_uri": "https://localhost:8080/"
        },
        "id": "9fpZzK3zQasN",
        "outputId": "f107e223-6376-443b-d970-069b80b0c58e"
      },
      "execution_count": null,
      "outputs": [
        {
          "output_type": "execute_result",
          "data": {
            "text/plain": [
              "{'casa': 'house',\n",
              " 'entender': 'understand',\n",
              " 'sediento': 'thirty',\n",
              " 'rojo': 'red',\n",
              " 'ocupado': 'busy'}"
            ]
          },
          "metadata": {},
          "execution_count": 84
        }
      ]
    },
    {
      "cell_type": "code",
      "source": [
        "#para ver un valor de una llave determinada los hago de la siguiente manera\n",
        "diccionario_ing_esp[\"casa\"]"
      ],
      "metadata": {
        "colab": {
          "base_uri": "https://localhost:8080/",
          "height": 35
        },
        "id": "zvLfOhMAR9AC",
        "outputId": "6810495a-d0b9-43ca-8c3d-617159bca855"
      },
      "execution_count": null,
      "outputs": [
        {
          "output_type": "execute_result",
          "data": {
            "text/plain": [
              "'house'"
            ],
            "application/vnd.google.colaboratory.intrinsic+json": {
              "type": "string"
            }
          },
          "metadata": {},
          "execution_count": 85
        }
      ]
    },
    {
      "cell_type": "code",
      "source": [
        "#parra traer todas las llaves de un diccionario uso metodo keys\n",
        "diccionario_ing_esp.keys()"
      ],
      "metadata": {
        "colab": {
          "base_uri": "https://localhost:8080/"
        },
        "id": "7sazDZsWSQyt",
        "outputId": "9162c54d-5a75-4ab9-c4f2-949336eaa3a8"
      },
      "execution_count": null,
      "outputs": [
        {
          "output_type": "execute_result",
          "data": {
            "text/plain": [
              "dict_keys(['casa', 'entender', 'sediento', 'rojo', 'ocupado'])"
            ]
          },
          "metadata": {},
          "execution_count": 86
        }
      ]
    },
    {
      "cell_type": "code",
      "source": [
        "#para llamar los valores de los diccionarios uso values\n",
        "diccionario_ing_esp.values()"
      ],
      "metadata": {
        "colab": {
          "base_uri": "https://localhost:8080/"
        },
        "id": "NCTtWsOjSfUb",
        "outputId": "4927fd48-eda7-43f7-d04f-ce355ec7e0d7"
      },
      "execution_count": null,
      "outputs": [
        {
          "output_type": "execute_result",
          "data": {
            "text/plain": [
              "dict_values(['house', 'understand', 'thirty', 'red', 'busy'])"
            ]
          },
          "metadata": {},
          "execution_count": 87
        }
      ]
    },
    {
      "cell_type": "code",
      "source": [
        "#para mostrar todo el diccionario lo nombro\n",
        "diccionario_ing_esp"
      ],
      "metadata": {
        "colab": {
          "base_uri": "https://localhost:8080/"
        },
        "id": "RjpSphSmS7q2",
        "outputId": "6cd66193-e86d-4b31-fb11-f9b98904df42"
      },
      "execution_count": null,
      "outputs": [
        {
          "output_type": "execute_result",
          "data": {
            "text/plain": [
              "{'casa': 'house',\n",
              " 'entender': 'understand',\n",
              " 'sediento': 'thirty',\n",
              " 'rojo': 'red',\n",
              " 'ocupado': 'busy'}"
            ]
          },
          "metadata": {},
          "execution_count": 88
        }
      ]
    },
    {
      "cell_type": "code",
      "source": [
        "diccionario_ing_esp.items()"
      ],
      "metadata": {
        "colab": {
          "base_uri": "https://localhost:8080/"
        },
        "id": "-gnwxkAVTD4L",
        "outputId": "11b07149-f4ba-42fd-c250-73d6311687ce"
      },
      "execution_count": null,
      "outputs": [
        {
          "output_type": "execute_result",
          "data": {
            "text/plain": [
              "dict_items([('casa', 'house'), ('entender', 'understand'), ('sediento', 'thirty'), ('rojo', 'red'), ('ocupado', 'busy')])"
            ]
          },
          "metadata": {},
          "execution_count": 89
        }
      ]
    },
    {
      "cell_type": "code",
      "source": [
        "#para agregar un nuevo elemento a un diccionario\n",
        "diccionario_ing_esp[\"azul\"]=\"blue\"\n",
        "diccionario_ing_esp"
      ],
      "metadata": {
        "colab": {
          "base_uri": "https://localhost:8080/"
        },
        "id": "SkmwgM3TTL9l",
        "outputId": "1f660fa6-75b1-4266-f15a-4561152d1485"
      },
      "execution_count": null,
      "outputs": [
        {
          "output_type": "execute_result",
          "data": {
            "text/plain": [
              "{'casa': 'house',\n",
              " 'entender': 'understand',\n",
              " 'sediento': 'thirty',\n",
              " 'rojo': 'red',\n",
              " 'ocupado': 'busy',\n",
              " 'azul': 'blue'}"
            ]
          },
          "metadata": {},
          "execution_count": 90
        }
      ]
    },
    {
      "cell_type": "code",
      "source": [
        "#para actualizar un dato del diccionario uso update\n",
        "diccionario_ing_esp.update({\"negro\":\"black\"})\n",
        "diccionario_ing_esp"
      ],
      "metadata": {
        "colab": {
          "base_uri": "https://localhost:8080/"
        },
        "id": "fofeqy3jTdGv",
        "outputId": "3ce1a93e-b88e-4624-d98f-4fb6ae8954c7"
      },
      "execution_count": null,
      "outputs": [
        {
          "output_type": "execute_result",
          "data": {
            "text/plain": [
              "{'casa': 'house',\n",
              " 'entender': 'understand',\n",
              " 'sediento': 'thirty',\n",
              " 'rojo': 'red',\n",
              " 'ocupado': 'busy',\n",
              " 'azul': 'blue',\n",
              " 'negro': 'black'}"
            ]
          },
          "metadata": {},
          "execution_count": 91
        }
      ]
    },
    {
      "cell_type": "code",
      "source": [
        "#agregar una lista dentro de un diccionario\n",
        "diccionario_ing_esp.update({\"gris\":\"grey\",\"pronombres\":[\"he\",\"she\",\"it\"]})\n",
        "diccionario_ing_esp"
      ],
      "metadata": {
        "colab": {
          "base_uri": "https://localhost:8080/"
        },
        "id": "c92NWlUKT21E",
        "outputId": "cf16e28c-e6a2-4b94-8711-12c3a49cc6e8"
      },
      "execution_count": null,
      "outputs": [
        {
          "output_type": "execute_result",
          "data": {
            "text/plain": [
              "{'casa': 'house',\n",
              " 'entender': 'understand',\n",
              " 'sediento': 'thirty',\n",
              " 'rojo': 'red',\n",
              " 'ocupado': 'busy',\n",
              " 'azul': 'blue',\n",
              " 'negro': 'black',\n",
              " 'gris': 'grey',\n",
              " 'pronombres': ['he', 'she', 'it']}"
            ]
          },
          "metadata": {},
          "execution_count": 92
        }
      ]
    },
    {
      "cell_type": "code",
      "source": [
        "diccionario_ing_esp.values()"
      ],
      "metadata": {
        "colab": {
          "base_uri": "https://localhost:8080/"
        },
        "id": "Pm77s5eAUsXn",
        "outputId": "58b60ac2-16ab-457e-8eac-6f21c23c05cd"
      },
      "execution_count": null,
      "outputs": [
        {
          "output_type": "execute_result",
          "data": {
            "text/plain": [
              "dict_values(['house', 'understand', 'thirty', 'red', 'busy', 'blue', 'black', 'grey', ['he', 'she', 'it']])"
            ]
          },
          "metadata": {},
          "execution_count": 93
        }
      ]
    },
    {
      "cell_type": "code",
      "source": [
        "#para borrar datos podemos usar pop\n",
        "diccionario_ing_esp.pop(\"gris\")\n",
        "diccionario_ing_esp"
      ],
      "metadata": {
        "colab": {
          "base_uri": "https://localhost:8080/"
        },
        "id": "5OD-LgMTVKNt",
        "outputId": "15113b11-1a5c-4cb0-b9eb-fce66548c17b"
      },
      "execution_count": null,
      "outputs": [
        {
          "output_type": "execute_result",
          "data": {
            "text/plain": [
              "{'casa': 'house',\n",
              " 'entender': 'understand',\n",
              " 'sediento': 'thirty',\n",
              " 'rojo': 'red',\n",
              " 'ocupado': 'busy',\n",
              " 'azul': 'blue',\n",
              " 'negro': 'black',\n",
              " 'pronombres': ['he', 'she', 'it']}"
            ]
          },
          "metadata": {},
          "execution_count": 94
        }
      ]
    },
    {
      "cell_type": "code",
      "source": [
        "#para eliminar del diccionario podemos usa tambien del\n",
        "del diccionario_ing_esp[\"pronombres\"]\n",
        "diccionario_ing_esp"
      ],
      "metadata": {
        "colab": {
          "base_uri": "https://localhost:8080/"
        },
        "id": "h-CRfOGeVj5o",
        "outputId": "657a8eb2-1cbd-4a4c-b0aa-12ebd7e54555"
      },
      "execution_count": null,
      "outputs": [
        {
          "output_type": "execute_result",
          "data": {
            "text/plain": [
              "{'casa': 'house',\n",
              " 'entender': 'understand',\n",
              " 'sediento': 'thirty',\n",
              " 'rojo': 'red',\n",
              " 'ocupado': 'busy',\n",
              " 'azul': 'blue',\n",
              " 'negro': 'black'}"
            ]
          },
          "metadata": {},
          "execution_count": 95
        }
      ]
    },
    {
      "cell_type": "code",
      "source": [],
      "metadata": {
        "id": "jDjUwzcfVx5k"
      },
      "execution_count": null,
      "outputs": []
    },
    {
      "cell_type": "markdown",
      "source": [
        "**Operadores logicos:**se usan para comprobar condiciones y devolver true o false, dependiente cual sea el caso, son escenciales para la toma de desiciones y para la creacion de la logica de programacion."
      ],
      "metadata": {
        "id": "oGR_-NQ8bcAo"
      }
    },
    {
      "cell_type": "code",
      "source": [
        "#el primero es AND que traduce y\n",
        "print(\"operador AND (que significay)\")\n",
        "print(\"para qye y sea verdadero todas as condiciones deben ser verdadera\")\n",
        "5>3 and 5<10"
      ],
      "metadata": {
        "colab": {
          "base_uri": "https://localhost:8080/"
        },
        "id": "6ihEAvdIbsfj",
        "outputId": "99330af9-faaf-4697-a0ae-6e0963c54398"
      },
      "execution_count": null,
      "outputs": [
        {
          "output_type": "stream",
          "name": "stdout",
          "text": [
            "operador AND (que significay)\n",
            "para qye y sea verdadero todas as condiciones deben ser verdadera\n"
          ]
        },
        {
          "output_type": "execute_result",
          "data": {
            "text/plain": [
              "True"
            ]
          },
          "metadata": {},
          "execution_count": 96
        }
      ]
    },
    {
      "cell_type": "code",
      "source": [
        "5<3 and 5<10"
      ],
      "metadata": {
        "colab": {
          "base_uri": "https://localhost:8080/"
        },
        "id": "Eqw5zhDdcGKI",
        "outputId": "208e97c7-1b10-4a72-dd97-60f3fa06a0ee"
      },
      "execution_count": null,
      "outputs": [
        {
          "output_type": "execute_result",
          "data": {
            "text/plain": [
              "False"
            ]
          },
          "metadata": {},
          "execution_count": 97
        }
      ]
    },
    {
      "cell_type": "code",
      "source": [
        "#para usar O, se usa la palabra reservada or, en or por lo menos una de las condiciones debe ser verdadera\n",
        "5<3 or 5<10"
      ],
      "metadata": {
        "colab": {
          "base_uri": "https://localhost:8080/"
        },
        "id": "lrcVSdU2ccRF",
        "outputId": "ed766fa5-ba92-4344-bfd1-a13f64a24bfe"
      },
      "execution_count": null,
      "outputs": [
        {
          "output_type": "execute_result",
          "data": {
            "text/plain": [
              "True"
            ]
          },
          "metadata": {},
          "execution_count": 98
        }
      ]
    },
    {
      "cell_type": "code",
      "source": [
        "5<3 or 5>10"
      ],
      "metadata": {
        "colab": {
          "base_uri": "https://localhost:8080/"
        },
        "id": "HhvhZ8RVcz3o",
        "outputId": "cb2e192a-eb50-41fd-ba34-c9e00d92f67d"
      },
      "execution_count": null,
      "outputs": [
        {
          "output_type": "execute_result",
          "data": {
            "text/plain": [
              "False"
            ]
          },
          "metadata": {},
          "execution_count": 99
        }
      ]
    },
    {
      "cell_type": "code",
      "source": [
        "5>3 or 5<10"
      ],
      "metadata": {
        "colab": {
          "base_uri": "https://localhost:8080/"
        },
        "id": "137Q213Qc8YF",
        "outputId": "29c62d60-2cf9-418f-8e8e-41803e9419ce"
      },
      "execution_count": null,
      "outputs": [
        {
          "output_type": "execute_result",
          "data": {
            "text/plain": [
              "True"
            ]
          },
          "metadata": {},
          "execution_count": 100
        }
      ]
    },
    {
      "cell_type": "code",
      "source": [
        "#existe otro operador logico que es NOT\n",
        "print(\"operador not (es la negacion logica)\")\n",
        "not 5>3"
      ],
      "metadata": {
        "colab": {
          "base_uri": "https://localhost:8080/"
        },
        "id": "yMn04OQxdESm",
        "outputId": "cd093744-271f-41aa-9875-36c6fd2431fb"
      },
      "execution_count": null,
      "outputs": [
        {
          "output_type": "stream",
          "name": "stdout",
          "text": [
            "operador not (es la negacion logica)\n"
          ]
        },
        {
          "output_type": "execute_result",
          "data": {
            "text/plain": [
              "False"
            ]
          },
          "metadata": {},
          "execution_count": 101
        }
      ]
    },
    {
      "cell_type": "markdown",
      "source": [
        "**operaciones matematicas:**en este momento solo usaremos las mas basicas que son las escenciales para cualquier lenguaje de programacion suma, resta, multiplicacion, division, potenciacion y modulo"
      ],
      "metadata": {
        "id": "XQa_4uHcdhpX"
      }
    },
    {
      "cell_type": "code",
      "source": [
        "#suma, se representa con el simbolo mas + y me sirve tambien para concatenar\n",
        "6+5"
      ],
      "metadata": {
        "colab": {
          "base_uri": "https://localhost:8080/"
        },
        "id": "djEhtGTodav8",
        "outputId": "1be89d53-e6ca-48fa-d54d-9e029f0541ec"
      },
      "execution_count": null,
      "outputs": [
        {
          "output_type": "execute_result",
          "data": {
            "text/plain": [
              "11"
            ]
          },
          "metadata": {},
          "execution_count": 102
        }
      ]
    },
    {
      "cell_type": "code",
      "source": [
        "#resta, se representa con el simbolo guion -\n",
        "6-5"
      ],
      "metadata": {
        "colab": {
          "base_uri": "https://localhost:8080/"
        },
        "id": "hOlx5xlAd35h",
        "outputId": "ecd15695-3029-413b-884f-cfce8e78a18b"
      },
      "execution_count": null,
      "outputs": [
        {
          "output_type": "execute_result",
          "data": {
            "text/plain": [
              "1"
            ]
          },
          "metadata": {},
          "execution_count": 103
        }
      ]
    },
    {
      "cell_type": "code",
      "source": [
        "#multiplicacion, se representa con el simbolo asterisco * tambien sirve para multiplcar cadenas\n",
        "7*5"
      ],
      "metadata": {
        "colab": {
          "base_uri": "https://localhost:8080/"
        },
        "id": "GCoxVb86d97A",
        "outputId": "dea939c0-f0f3-4601-db8b-79fccaab9b95"
      },
      "execution_count": null,
      "outputs": [
        {
          "output_type": "execute_result",
          "data": {
            "text/plain": [
              "35"
            ]
          },
          "metadata": {},
          "execution_count": 104
        }
      ]
    },
    {
      "cell_type": "code",
      "source": [
        "#division, se representa con el simbolo slash /, y genera resultados con decimales\n",
        "37/3"
      ],
      "metadata": {
        "colab": {
          "base_uri": "https://localhost:8080/"
        },
        "id": "ApihnHvGeVaj",
        "outputId": "8dc16404-20c1-429f-f756-caa3d241acf4"
      },
      "execution_count": null,
      "outputs": [
        {
          "output_type": "execute_result",
          "data": {
            "text/plain": [
              "12.333333333333334"
            ]
          },
          "metadata": {},
          "execution_count": 105
        }
      ]
    },
    {
      "cell_type": "code",
      "source": [
        "#potenciacion, se representa con el simbolo **, primero la base y luego el exponente\n",
        "5**5"
      ],
      "metadata": {
        "colab": {
          "base_uri": "https://localhost:8080/"
        },
        "id": "e_A-TvIjeecV",
        "outputId": "ff151b75-8a3d-4fbf-c890-0f91f44506af"
      },
      "execution_count": null,
      "outputs": [
        {
          "output_type": "execute_result",
          "data": {
            "text/plain": [
              "3125"
            ]
          },
          "metadata": {},
          "execution_count": 106
        }
      ]
    },
    {
      "cell_type": "code",
      "source": [
        "#modulo, se representa con el simbolo % porcentaje\n",
        "23%4"
      ],
      "metadata": {
        "colab": {
          "base_uri": "https://localhost:8080/"
        },
        "id": "PQoQsrOveoTA",
        "outputId": "43367a5f-181e-49df-e2ea-cfec53559644"
      },
      "execution_count": null,
      "outputs": [
        {
          "output_type": "execute_result",
          "data": {
            "text/plain": [
              "3"
            ]
          },
          "metadata": {},
          "execution_count": 107
        }
      ]
    },
    {
      "cell_type": "code",
      "source": [
        "#operadores de compracion, nos sirven como su nombre lo indica para comprar valores y saber si la comparacion es verdadera o falsa\n",
        "#para comparar si dos valores son iguales uso el doble igual ==\n",
        "(3+29)==21"
      ],
      "metadata": {
        "colab": {
          "base_uri": "https://localhost:8080/"
        },
        "id": "lMyEPjq5fdZP",
        "outputId": "7cc7d0de-e8e9-493f-cceb-143862f8631a"
      },
      "execution_count": null,
      "outputs": [
        {
          "output_type": "execute_result",
          "data": {
            "text/plain": [
              "False"
            ]
          },
          "metadata": {},
          "execution_count": 108
        }
      ]
    },
    {
      "cell_type": "code",
      "source": [
        "#para hacer una comparacion diferentede, uso !=\n",
        "(3+29)!=21"
      ],
      "metadata": {
        "colab": {
          "base_uri": "https://localhost:8080/"
        },
        "id": "QIV8VEcpf2Ze",
        "outputId": "f1963f33-c18a-455a-ce1d-549f111b6fbb"
      },
      "execution_count": null,
      "outputs": [
        {
          "output_type": "execute_result",
          "data": {
            "text/plain": [
              "True"
            ]
          },
          "metadata": {},
          "execution_count": 109
        }
      ]
    },
    {
      "cell_type": "code",
      "source": [
        "#mayor que >\n",
        "(3+29)>21"
      ],
      "metadata": {
        "colab": {
          "base_uri": "https://localhost:8080/"
        },
        "id": "-ZhR7LNagEOr",
        "outputId": "7ed3564a-c6ee-4a22-9c39-2a9d05b8c838"
      },
      "execution_count": null,
      "outputs": [
        {
          "output_type": "execute_result",
          "data": {
            "text/plain": [
              "True"
            ]
          },
          "metadata": {},
          "execution_count": 110
        }
      ]
    },
    {
      "cell_type": "code",
      "source": [
        "#menor que <\n",
        "(3+29)<21"
      ],
      "metadata": {
        "colab": {
          "base_uri": "https://localhost:8080/"
        },
        "id": "fBXidmgngQe6",
        "outputId": "1c9dcf55-f5ad-4e59-dadf-aec37c6ced92"
      },
      "execution_count": null,
      "outputs": [
        {
          "output_type": "execute_result",
          "data": {
            "text/plain": [
              "False"
            ]
          },
          "metadata": {},
          "execution_count": 111
        }
      ]
    },
    {
      "cell_type": "code",
      "source": [
        "#menor o igual o mayor o igual\n",
        "#>= mayo o igual que\n",
        "#<= menor o igual que\n",
        "(3+18)<=21"
      ],
      "metadata": {
        "colab": {
          "base_uri": "https://localhost:8080/"
        },
        "id": "oaD5TzzlgXBs",
        "outputId": "a0dc1cca-f197-41b5-e629-5cbbc191890c"
      },
      "execution_count": null,
      "outputs": [
        {
          "output_type": "execute_result",
          "data": {
            "text/plain": [
              "True"
            ]
          },
          "metadata": {},
          "execution_count": 112
        }
      ]
    },
    {
      "cell_type": "code",
      "source": [],
      "metadata": {
        "id": "maf9vLZ2grob"
      },
      "execution_count": null,
      "outputs": []
    },
    {
      "cell_type": "markdown",
      "source": [
        "**condicionales:** me permiten ejecutar un bloque de codigo si la condicion es verdadera o falsa, sirven como entes de control, su sintaxis es de la siguiente manera, las condicionales en python son:if, elif y else"
      ],
      "metadata": {
        "id": "9Ytie_1ngxA0"
      }
    },
    {
      "cell_type": "code",
      "source": [
        "#if condicion:si\n",
        "#(codigo que quiero ejecutar)\n",
        "#else: si no ejecute esto\n",
        "#(codigo a ejecutar)"
      ],
      "metadata": {
        "id": "YF0ECvM0g8mx"
      },
      "execution_count": null,
      "outputs": []
    },
    {
      "cell_type": "code",
      "source": [
        "#ejemplo de condicionales\n",
        "edad_michael=16\n",
        "if edad_michael >= 18:\n",
        "  print(\"michael bienvenido, pero deberias estar trabajando\")\n",
        "else:\n",
        "    print(\"michael, estas muy chiquito\")"
      ],
      "metadata": {
        "colab": {
          "base_uri": "https://localhost:8080/"
        },
        "id": "jyBpIFKBhmXS",
        "outputId": "922c6f79-4523-4bb6-a310-08dac5a97279"
      },
      "execution_count": null,
      "outputs": [
        {
          "output_type": "stream",
          "name": "stdout",
          "text": [
            "michael, estas muy chiquito\n"
          ]
        }
      ]
    },
    {
      "cell_type": "code",
      "source": [
        "edad_usuario=int(input(\"hola para ingresar por favor comprueba tu edad\"))\n",
        "dad_usuario=16\n",
        "if edad_michael <=18:\n",
        "  print(\"puedes apostar tu casa\")\n",
        "else:\n",
        "    print(\"no apuestes por favor\")"
      ],
      "metadata": {
        "colab": {
          "base_uri": "https://localhost:8080/"
        },
        "id": "AGIVBeb_iJoN",
        "outputId": "f9f002ef-e422-4e83-bdf0-f951a66a2bd4"
      },
      "execution_count": null,
      "outputs": [
        {
          "output_type": "stream",
          "name": "stdout",
          "text": [
            "hola para ingresar por favor comprueba tu edad18\n",
            "puedes apostar tu casa\n"
          ]
        }
      ]
    },
    {
      "cell_type": "code",
      "source": [
        "edad_usuario=int(input(\"hola para ingresar por favor comprueba tu edad\"))\n",
        "dad_usuario=16\n",
        "if edad_usuario>=18:\n",
        "  print(\"puedes apostar tu casa\")\n",
        "elif edad >=13:\n",
        "    print(\"eres un adolecente, pero no te preocupes te esperaremos\")\n",
        "else:\n",
        "    print(\"no apuestes por favor\")"
      ],
      "metadata": {
        "colab": {
          "base_uri": "https://localhost:8080/"
        },
        "id": "F_jgjKGjiwk6",
        "outputId": "40ee52d2-f7a3-444d-f381-3d1aa959206d"
      },
      "execution_count": null,
      "outputs": [
        {
          "output_type": "stream",
          "name": "stdout",
          "text": [
            "hola para ingresar por favor comprueba tu edad18\n",
            "puedes apostar tu casa\n"
          ]
        }
      ]
    },
    {
      "cell_type": "code",
      "source": [
        "paises"
      ],
      "metadata": {
        "colab": {
          "base_uri": "https://localhost:8080/"
        },
        "id": "t3X73Waoj2I_",
        "outputId": "b477bed4-aca9-4d9c-e436-d58da5bf0dfa"
      },
      "execution_count": null,
      "outputs": [
        {
          "output_type": "execute_result",
          "data": {
            "text/plain": [
              "['Colombia', 'Ecuador', 'Mexico', 'Paraguay', 'Venezuela']"
            ]
          },
          "metadata": {},
          "execution_count": 117
        }
      ]
    },
    {
      "cell_type": "code",
      "source": [
        "if\"Mexico\" in paises:\n",
        "  print(\"esta no es una lista latinoamericana\")\n",
        "else:\n",
        "    print(\"los sudacas\")"
      ],
      "metadata": {
        "colab": {
          "base_uri": "https://localhost:8080/"
        },
        "id": "Y4svdxYFkDw3",
        "outputId": "f21843fb-cf61-43c7-d068-0c555c78821d"
      },
      "execution_count": null,
      "outputs": [
        {
          "output_type": "stream",
          "name": "stdout",
          "text": [
            "esta no es una lista latinoamericana\n"
          ]
        }
      ]
    },
    {
      "cell_type": "code",
      "source": [
        "numero=int(input(\"ingresar numero\"))\n",
        "numero_cuadrado=numero**2\n",
        "print(\"el cuadrado de tu numero e: \",numero_cuadrado)"
      ],
      "metadata": {
        "colab": {
          "base_uri": "https://localhost:8080/"
        },
        "id": "3X1De9wZg86R",
        "outputId": "5bd6f3b0-ae37-4f45-83a9-26858699f581"
      },
      "execution_count": null,
      "outputs": [
        {
          "output_type": "stream",
          "name": "stdout",
          "text": [
            "ingresar numero8\n",
            "el cuadrado de tu numero e:  64\n"
          ]
        }
      ]
    },
    {
      "cell_type": "code",
      "source": [
        "#escribe un programa que cuente la letra E en un parrafo que ingrese el usuario\n",
        "parrafo=input(\"ingresa un parrafo\")\n",
        "parrafo.count(\"e\")\n"
      ],
      "metadata": {
        "colab": {
          "base_uri": "https://localhost:8080/"
        },
        "id": "4UXCDTNHkNEj",
        "outputId": "08f12ae4-ab77-45ea-840c-fa0476667f12"
      },
      "execution_count": null,
      "outputs": [
        {
          "name": "stdout",
          "output_type": "stream",
          "text": [
            "ingresa un parrafohola\n"
          ]
        },
        {
          "output_type": "execute_result",
          "data": {
            "text/plain": [
              "0"
            ]
          },
          "metadata": {},
          "execution_count": 120
        }
      ]
    },
    {
      "cell_type": "markdown",
      "source": [
        "**ciclos y bucles:** son estructuras de codigo que me permiten iterar sobre una estructura o un rango, existen dos tipo de ciclos mas usados los FOR que significa para o los WHILE que significa mientras que"
      ],
      "metadata": {
        "id": "1VlceRWHuAWm"
      }
    },
    {
      "cell_type": "code",
      "source": [
        "#de esta manera es la estrcutura de los ciclos FOR\n",
        "#for<variable>int<la lista o el rango>:\n",
        " # <ejecutable>\n"
      ],
      "metadata": {
        "id": "vhUAWbP-uWHk"
      },
      "execution_count": null,
      "outputs": []
    },
    {
      "cell_type": "code",
      "source": [],
      "metadata": {
        "id": "fWZZuKOHqjxR"
      },
      "execution_count": null,
      "outputs": []
    },
    {
      "cell_type": "code",
      "source": [
        "paises"
      ],
      "metadata": {
        "colab": {
          "base_uri": "https://localhost:8080/"
        },
        "id": "L9JbIXTgvq_6",
        "outputId": "e6fc4bb9-f15a-4746-b886-ecf677633ad5"
      },
      "execution_count": null,
      "outputs": [
        {
          "output_type": "execute_result",
          "data": {
            "text/plain": [
              "['Colombia', 'Ecuador', 'Mexico', 'Paraguay', 'Venezuela']"
            ]
          },
          "metadata": {},
          "execution_count": 122
        }
      ]
    },
    {
      "cell_type": "code",
      "source": [
        "paises=[\"Colombia\",\"Ecuador\",\"Mexico\",\"China\",\"Francia\",\"Paraguay\"]"
      ],
      "metadata": {
        "id": "-TW4ztuhvzdM"
      },
      "execution_count": null,
      "outputs": []
    },
    {
      "cell_type": "code",
      "source": [
        "paises"
      ],
      "metadata": {
        "colab": {
          "base_uri": "https://localhost:8080/"
        },
        "id": "53WhORChv7Fl",
        "outputId": "44a049e1-ccd0-4c59-90c9-87a0410097f3"
      },
      "execution_count": null,
      "outputs": [
        {
          "output_type": "execute_result",
          "data": {
            "text/plain": [
              "['Colombia', 'Ecuador', 'Mexico', 'China', 'Francia', 'Paraguay']"
            ]
          },
          "metadata": {},
          "execution_count": 124
        }
      ]
    },
    {
      "cell_type": "code",
      "source": [
        "for i in paises:\n",
        "  print(i)"
      ],
      "metadata": {
        "colab": {
          "base_uri": "https://localhost:8080/"
        },
        "id": "r6kSVDH0v8OI",
        "outputId": "0135e3cf-7d99-4825-e6e5-bf179590a6c6"
      },
      "execution_count": null,
      "outputs": [
        {
          "output_type": "stream",
          "name": "stdout",
          "text": [
            "Colombia\n",
            "Ecuador\n",
            "Mexico\n",
            "China\n",
            "Francia\n",
            "Paraguay\n"
          ]
        }
      ]
    },
    {
      "cell_type": "code",
      "source": [
        "for i in paises:\n",
        "  if i == \"China\":\n",
        "    print(i,\"este pais esta infiltrado\")"
      ],
      "metadata": {
        "colab": {
          "base_uri": "https://localhost:8080/"
        },
        "id": "eeDhAU6HwVfo",
        "outputId": "34e9fe2d-c4b9-4f9d-db99-6a94d216b82f"
      },
      "execution_count": null,
      "outputs": [
        {
          "output_type": "stream",
          "name": "stdout",
          "text": [
            "China este pais esta infiltrado\n"
          ]
        }
      ]
    },
    {
      "cell_type": "code",
      "source": [
        "for numero, i in enumerate(paises):\n",
        "  print(numero)\n",
        "  print(i)"
      ],
      "metadata": {
        "colab": {
          "base_uri": "https://localhost:8080/"
        },
        "id": "3bVQ_irywtYA",
        "outputId": "450d926d-ee00-420e-bbe0-9b164a800f44"
      },
      "execution_count": null,
      "outputs": [
        {
          "output_type": "stream",
          "name": "stdout",
          "text": [
            "0\n",
            "Colombia\n",
            "1\n",
            "Ecuador\n",
            "2\n",
            "Mexico\n",
            "3\n",
            "China\n",
            "4\n",
            "Francia\n",
            "5\n",
            "Paraguay\n"
          ]
        }
      ]
    },
    {
      "cell_type": "markdown",
      "source": [
        "funciones: hay dos tipos de funciones: las funciones de autor y las funciones de phayton"
      ],
      "metadata": {
        "id": "eS0fFzIuyHQk"
      }
    },
    {
      "cell_type": "code",
      "source": [
        "#funcion len me da la longitud de un arreglo\n",
        "len(paises)"
      ],
      "metadata": {
        "colab": {
          "base_uri": "https://localhost:8080/"
        },
        "id": "SBsaFuASxOCk",
        "outputId": "734214ad-31f6-41f8-d8c7-075e88efca4d"
      },
      "execution_count": null,
      "outputs": [
        {
          "output_type": "execute_result",
          "data": {
            "text/plain": [
              "6"
            ]
          },
          "metadata": {},
          "execution_count": 131
        }
      ]
    },
    {
      "cell_type": "code",
      "source": [
        "#funcion max me sirve para mostrar el numero mas grande de un arreglo\n",
        "max([3,56,78,43,21])"
      ],
      "metadata": {
        "colab": {
          "base_uri": "https://localhost:8080/"
        },
        "id": "xJhuop2W3R4c",
        "outputId": "a79468f2-4321-4043-c8c8-275f2f166a13"
      },
      "execution_count": null,
      "outputs": [
        {
          "output_type": "execute_result",
          "data": {
            "text/plain": [
              "78"
            ]
          },
          "metadata": {},
          "execution_count": 132
        }
      ]
    },
    {
      "cell_type": "code",
      "source": [
        "#funcion min sirve para mostar el numero mas bajo de una regla\n",
        "min([21,45,32,87,56,92])"
      ],
      "metadata": {
        "colab": {
          "base_uri": "https://localhost:8080/"
        },
        "id": "Px5rF6kJ3gsb",
        "outputId": "22324f8c-c921-4e52-dd9f-bcb065b86ff4"
      },
      "execution_count": null,
      "outputs": [
        {
          "output_type": "execute_result",
          "data": {
            "text/plain": [
              "21"
            ]
          },
          "metadata": {},
          "execution_count": 133
        }
      ]
    },
    {
      "cell_type": "code",
      "source": [
        "# funcion type me sirve para saber el tipo de dato de una variable\n",
        "type(paises)"
      ],
      "metadata": {
        "colab": {
          "base_uri": "https://localhost:8080/"
        },
        "id": "v02ntuhe3tOp",
        "outputId": "e055aa1d-e19d-42ac-c333-a1a00d7bf88e"
      },
      "execution_count": null,
      "outputs": [
        {
          "output_type": "execute_result",
          "data": {
            "text/plain": [
              "list"
            ]
          },
          "metadata": {},
          "execution_count": 134
        }
      ]
    },
    {
      "cell_type": "code",
      "source": [
        "#funcion round me sirve para redondar decimales\n",
        "round(3.141624,2)"
      ],
      "metadata": {
        "colab": {
          "base_uri": "https://localhost:8080/"
        },
        "id": "MgcG0uFw391B",
        "outputId": "9690c0c4-d0f2-401b-ce40-ad66d2843005"
      },
      "execution_count": null,
      "outputs": [
        {
          "output_type": "execute_result",
          "data": {
            "text/plain": [
              "3.14"
            ]
          },
          "metadata": {},
          "execution_count": 135
        }
      ]
    },
    {
      "cell_type": "code",
      "source": [
        "# funcion range nos sirve para crear una secuencia de numero tiene tres argumentos inicio, final y el paso\n",
        "contando=range(0,200,5)\n",
        "for i in contando:\n",
        "  print (i)\n"
      ],
      "metadata": {
        "colab": {
          "base_uri": "https://localhost:8080/"
        },
        "id": "lzrjpJbX4NMg",
        "outputId": "3f4110aa-572d-48a5-954d-8c7c7af912b3"
      },
      "execution_count": null,
      "outputs": [
        {
          "output_type": "stream",
          "name": "stdout",
          "text": [
            "0\n",
            "5\n",
            "10\n",
            "15\n",
            "20\n",
            "25\n",
            "30\n",
            "35\n",
            "40\n",
            "45\n",
            "50\n",
            "55\n",
            "60\n",
            "65\n",
            "70\n",
            "75\n",
            "80\n",
            "85\n",
            "90\n",
            "95\n",
            "100\n",
            "105\n",
            "110\n",
            "115\n",
            "120\n",
            "125\n",
            "130\n",
            "135\n",
            "140\n",
            "145\n",
            "150\n",
            "155\n",
            "160\n",
            "165\n",
            "170\n",
            "175\n",
            "180\n",
            "185\n",
            "190\n",
            "195\n"
          ]
        }
      ]
    },
    {
      "cell_type": "code",
      "source": [
        "#las funciones propias son las que yo creo y me sirven para reutilizar codigo\n",
        "def suma(a,b):\n",
        "  resultado=a+b\n",
        "  return resultado"
      ],
      "metadata": {
        "id": "d89iHs134eQO"
      },
      "execution_count": null,
      "outputs": []
    },
    {
      "cell_type": "code",
      "source": [
        "suma(14,15)"
      ],
      "metadata": {
        "colab": {
          "base_uri": "https://localhost:8080/"
        },
        "id": "KumZTOcX5UWP",
        "outputId": "f63aa0c4-dd5a-427b-d914-a4d14e960f8e"
      },
      "execution_count": null,
      "outputs": [
        {
          "output_type": "execute_result",
          "data": {
            "text/plain": [
              "29"
            ]
          },
          "metadata": {},
          "execution_count": 145
        }
      ]
    },
    {
      "cell_type": "code",
      "source": [
        "def pan(pan,precio):\n",
        "  precio_pan=pan*precio\n",
        "  return precio_pan"
      ],
      "metadata": {
        "id": "CZWoNeYq5eLT"
      },
      "execution_count": null,
      "outputs": []
    },
    {
      "cell_type": "code",
      "source": [
        "cantidad=int(input(\"numero de panes\"))\n",
        "precio=500\n",
        "pan(panes,precio)"
      ],
      "metadata": {
        "colab": {
          "base_uri": "https://localhost:8080/"
        },
        "id": "OBBOBwdF6FEq",
        "outputId": "388f4e87-6a95-4215-ce94-5f6db0716409"
      },
      "execution_count": null,
      "outputs": [
        {
          "name": "stdout",
          "output_type": "stream",
          "text": [
            "numero de panes10\n"
          ]
        },
        {
          "output_type": "execute_result",
          "data": {
            "text/plain": [
              "2500"
            ]
          },
          "metadata": {},
          "execution_count": 153
        }
      ]
    },
    {
      "cell_type": "code",
      "source": [
        "def division(a,b):\n",
        "  resultado_division=a/b\n",
        "  return resultado_division"
      ],
      "metadata": {
        "id": "p3ZCltir7Kka"
      },
      "execution_count": null,
      "outputs": []
    },
    {
      "cell_type": "markdown",
      "source": [
        "**Ejercicio:** escribe un programa que calcule el total de una compra de supermercado el usuario debe ingresar el precio de dos productos y las cantidades que desea comprar de cada uno, lueog el programa debera permitir al usuario: sumar los precio de ambos productos, multiplicar los precios por las cantidades de producto para obtener el precio total, restar un descuento del precio total si el usuario tiene un cupon, dividir el total entre dos personas por si desean dividir la cuenta"
      ],
      "metadata": {
        "id": "ecza9qbo9WPC"
      }
    },
    {
      "cell_type": "code",
      "source": [
        "#multiplicar suma resta y cuarta division"
      ],
      "metadata": {
        "id": "4wQAohgI9V86"
      },
      "execution_count": null,
      "outputs": []
    },
    {
      "cell_type": "code",
      "source": [
        "def multiplicar(a,b):\n",
        "  resultado_multiplicar=a*b\n",
        "  return resultado_multiplicar\n",
        "def division(a,b):\n",
        "  if b !=0:\n",
        "     return a/b\n",
        "  else:\n",
        "    return print(\"nose puede dividir entre o\")\n",
        "  resultado_division=a/b\n",
        "  return resultado_division\n",
        "def suma(a,b):\n",
        "  resultado_suma=a+b\n",
        "  return resultado_suma\n",
        "def resta(a,b):\n",
        "  resultado_resta=a-b\n",
        "  return resultado_resta"
      ],
      "metadata": {
        "id": "84d2g3La-Hzo"
      },
      "execution_count": null,
      "outputs": []
    },
    {
      "cell_type": "code",
      "source": [
        "print(\"bienvenido a la tiendita\")\n",
        "precio_1=float(input(\"precio del producto 1: \"))\n",
        "cantidad_1=int(input(\"ingresar la cantidad producto 1: \"))\n",
        "precio_2=float(input(\"precio del producto 2: \"))\n",
        "cantidad_2=int(input(\"ingresar la cantidad producto 2: \"))\n",
        "operacion=input(\"\"\"bienvenido, como estas?. que quieres hacer\n",
        "1.sumar los precios de ambos productos\n",
        "2.calcular el costo total multiplicando precio por cantidad\n",
        "3.aplicar un descuento al total\n",
        "4.dividir el total entre dos personas\n",
        "no olvides que solo puedes elegis 1,2,3 y 4: 1\"\"\")\n",
        "if operacion==\"1\":\n",
        "  total_precio=suma(precio_1,precio_2)\n",
        "print(total_precio)"
      ],
      "metadata": {
        "colab": {
          "base_uri": "https://localhost:8080/"
        },
        "id": "6sOyWKtnABJo",
        "outputId": "a67a20c2-107d-4e16-d7cd-6e55d0bf3f0e"
      },
      "execution_count": null,
      "outputs": [
        {
          "output_type": "stream",
          "name": "stdout",
          "text": [
            "bienvenido a la tiendita\n",
            "precio del producto 1200\n",
            "ingresar la cantidad producto 13\n",
            "precio del producto 2300\n",
            "ingresar la cantidad producto 23\n",
            "bienvenido, como estas?. que quieres hacer\n",
            "1.sumar los precios de ambos productos\n",
            "2.calcular el costo total multiplicando precio por cantidad\n",
            "3.aplicar un descuento al total\n",
            "4.dividir el total entre dos personas\n",
            "no olvides que solo puedes elegis 1,2,3 y 4: 11\n",
            "500.0\n"
          ]
        }
      ]
    },
    {
      "cell_type": "markdown",
      "source": [],
      "metadata": {
        "id": "SF9SEBrx9Vmd"
      }
    }
  ]
}